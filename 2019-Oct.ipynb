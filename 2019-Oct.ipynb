{
 "cells": [
  {
   "cell_type": "code",
   "execution_count": 1,
   "id": "a89b4ae6",
   "metadata": {},
   "outputs": [],
   "source": [
    "import pandas as pd\n",
    "\n",
    "# Load the df\n",
    "Oct2019 = pd.read_csv(r\"C:\\Users\\abrah\\OneDrive\\Desktop\\Semester 3\\Introduction to Big Data\\Project\\EcommerceAnalysis\\2019-Oct.csv\")"
   ]
  },
  {
   "cell_type": "code",
   "execution_count": 2,
   "id": "df678e4c",
   "metadata": {},
   "outputs": [
    {
     "name": "stdout",
     "output_type": "stream",
     "text": [
      "                event_time event_type  product_id          category_id  \\\n",
      "0  2019-10-01 00:00:00 UTC       view    44600062  2103807459595387724   \n",
      "1  2019-10-01 00:00:00 UTC       view     3900821  2053013552326770905   \n",
      "2  2019-10-01 00:00:01 UTC       view    17200506  2053013559792632471   \n",
      "3  2019-10-01 00:00:01 UTC       view     1307067  2053013558920217191   \n",
      "4  2019-10-01 00:00:04 UTC       view     1004237  2053013555631882655   \n",
      "\n",
      "                         category_code     brand    price    user_id  \\\n",
      "0                                  NaN  shiseido    35.79  541312140   \n",
      "1  appliances.environment.water_heater      aqua    33.20  554748717   \n",
      "2           furniture.living_room.sofa       NaN   543.10  519107250   \n",
      "3                   computers.notebook    lenovo   251.74  550050854   \n",
      "4               electronics.smartphone     apple  1081.98  535871217   \n",
      "\n",
      "                           user_session  \n",
      "0  72d76fde-8bb3-4e00-8c23-a032dfed738c  \n",
      "1  9333dfbd-b87a-4708-9857-6336556b0fcc  \n",
      "2  566511c2-e2e3-422b-b695-cf8e6e792ca8  \n",
      "3  7c90fc70-0e80-4590-96f3-13c02c18c713  \n",
      "4  c6bd7419-2748-4c56-95b4-8cec9ff8b80d  \n"
     ]
    }
   ],
   "source": [
    "# Display the first 5 rows\n",
    "print(Oct2019.head())"
   ]
  },
  {
   "cell_type": "code",
   "execution_count": 3,
   "id": "459c60f9",
   "metadata": {},
   "outputs": [
    {
     "name": "stdout",
     "output_type": "stream",
     "text": [
      "(42448764, 9)\n"
     ]
    }
   ],
   "source": [
    "# (Number of Rows, Number of Columns)\n",
    "print(Oct2019.shape)"
   ]
  },
  {
   "cell_type": "code",
   "execution_count": 4,
   "id": "78446312",
   "metadata": {},
   "outputs": [
    {
     "name": "stdout",
     "output_type": "stream",
     "text": [
      "event_time        object\n",
      "event_type        object\n",
      "product_id         int64\n",
      "category_id        int64\n",
      "category_code     object\n",
      "brand             object\n",
      "price            float64\n",
      "user_id            int64\n",
      "user_session      object\n",
      "dtype: object\n"
     ]
    }
   ],
   "source": [
    "# Displays each datatype for each column\n",
    "print(Oct2019.dtypes)"
   ]
  },
  {
   "cell_type": "code",
   "execution_count": 5,
   "id": "81a2b168",
   "metadata": {},
   "outputs": [],
   "source": [
    "# Removes rows with null values\n",
    "Oct2019 = Oct2019.dropna()\n",
    "\n",
    "# Removes duplicate rows\n",
    "Oct2019 = Oct2019.drop_duplicates()"
   ]
  },
  {
   "cell_type": "code",
   "execution_count": 6,
   "id": "1fccbeb2",
   "metadata": {},
   "outputs": [],
   "source": [
    "# Slice anything after the 19th character (Removing Timezone)\n",
    "Oct2019[\"event_time\"] = Oct2019[\"event_time\"].str[:19]"
   ]
  },
  {
   "cell_type": "code",
   "execution_count": 7,
   "id": "da493e7d",
   "metadata": {},
   "outputs": [],
   "source": [
    "# Makes sure the \"event_time\" column contains a datetime data type\n",
    "Oct2019[\"event_time\"] = pd.to_datetime(Oct2019[\"event_time\"])"
   ]
  },
  {
   "cell_type": "code",
   "execution_count": 8,
   "id": "2c1868a9",
   "metadata": {},
   "outputs": [
    {
     "data": {
      "text/html": [
       "<div>\n",
       "<style scoped>\n",
       "    .dataframe tbody tr th:only-of-type {\n",
       "        vertical-align: middle;\n",
       "    }\n",
       "\n",
       "    .dataframe tbody tr th {\n",
       "        vertical-align: top;\n",
       "    }\n",
       "\n",
       "    .dataframe thead th {\n",
       "        text-align: right;\n",
       "    }\n",
       "</style>\n",
       "<table border=\"1\" class=\"dataframe\">\n",
       "  <thead>\n",
       "    <tr style=\"text-align: right;\">\n",
       "      <th></th>\n",
       "      <th>event_time</th>\n",
       "      <th>event_type</th>\n",
       "      <th>product_id</th>\n",
       "      <th>category_id</th>\n",
       "      <th>category_code</th>\n",
       "      <th>brand</th>\n",
       "      <th>price</th>\n",
       "      <th>user_id</th>\n",
       "      <th>user_session</th>\n",
       "    </tr>\n",
       "  </thead>\n",
       "  <tbody>\n",
       "    <tr>\n",
       "      <th>1</th>\n",
       "      <td>2019-10-01 00:00:00</td>\n",
       "      <td>view</td>\n",
       "      <td>3900821</td>\n",
       "      <td>2053013552326770905</td>\n",
       "      <td>appliances.environment.water_heater</td>\n",
       "      <td>aqua</td>\n",
       "      <td>33.20</td>\n",
       "      <td>554748717</td>\n",
       "      <td>9333dfbd-b87a-4708-9857-6336556b0fcc</td>\n",
       "    </tr>\n",
       "    <tr>\n",
       "      <th>3</th>\n",
       "      <td>2019-10-01 00:00:01</td>\n",
       "      <td>view</td>\n",
       "      <td>1307067</td>\n",
       "      <td>2053013558920217191</td>\n",
       "      <td>computers.notebook</td>\n",
       "      <td>lenovo</td>\n",
       "      <td>251.74</td>\n",
       "      <td>550050854</td>\n",
       "      <td>7c90fc70-0e80-4590-96f3-13c02c18c713</td>\n",
       "    </tr>\n",
       "    <tr>\n",
       "      <th>4</th>\n",
       "      <td>2019-10-01 00:00:04</td>\n",
       "      <td>view</td>\n",
       "      <td>1004237</td>\n",
       "      <td>2053013555631882655</td>\n",
       "      <td>electronics.smartphone</td>\n",
       "      <td>apple</td>\n",
       "      <td>1081.98</td>\n",
       "      <td>535871217</td>\n",
       "      <td>c6bd7419-2748-4c56-95b4-8cec9ff8b80d</td>\n",
       "    </tr>\n",
       "    <tr>\n",
       "      <th>5</th>\n",
       "      <td>2019-10-01 00:00:05</td>\n",
       "      <td>view</td>\n",
       "      <td>1480613</td>\n",
       "      <td>2053013561092866779</td>\n",
       "      <td>computers.desktop</td>\n",
       "      <td>pulser</td>\n",
       "      <td>908.62</td>\n",
       "      <td>512742880</td>\n",
       "      <td>0d0d91c2-c9c2-4e81-90a5-86594dec0db9</td>\n",
       "    </tr>\n",
       "    <tr>\n",
       "      <th>8</th>\n",
       "      <td>2019-10-01 00:00:10</td>\n",
       "      <td>view</td>\n",
       "      <td>28719074</td>\n",
       "      <td>2053013565480109009</td>\n",
       "      <td>apparel.shoes.keds</td>\n",
       "      <td>baden</td>\n",
       "      <td>102.71</td>\n",
       "      <td>520571932</td>\n",
       "      <td>ac1cd4e5-a3ce-4224-a2d7-ff660a105880</td>\n",
       "    </tr>\n",
       "  </tbody>\n",
       "</table>\n",
       "</div>"
      ],
      "text/plain": [
       "           event_time event_type  product_id          category_id  \\\n",
       "1 2019-10-01 00:00:00       view     3900821  2053013552326770905   \n",
       "3 2019-10-01 00:00:01       view     1307067  2053013558920217191   \n",
       "4 2019-10-01 00:00:04       view     1004237  2053013555631882655   \n",
       "5 2019-10-01 00:00:05       view     1480613  2053013561092866779   \n",
       "8 2019-10-01 00:00:10       view    28719074  2053013565480109009   \n",
       "\n",
       "                         category_code   brand    price    user_id  \\\n",
       "1  appliances.environment.water_heater    aqua    33.20  554748717   \n",
       "3                   computers.notebook  lenovo   251.74  550050854   \n",
       "4               electronics.smartphone   apple  1081.98  535871217   \n",
       "5                    computers.desktop  pulser   908.62  512742880   \n",
       "8                   apparel.shoes.keds   baden   102.71  520571932   \n",
       "\n",
       "                           user_session  \n",
       "1  9333dfbd-b87a-4708-9857-6336556b0fcc  \n",
       "3  7c90fc70-0e80-4590-96f3-13c02c18c713  \n",
       "4  c6bd7419-2748-4c56-95b4-8cec9ff8b80d  \n",
       "5  0d0d91c2-c9c2-4e81-90a5-86594dec0db9  \n",
       "8  ac1cd4e5-a3ce-4224-a2d7-ff660a105880  "
      ]
     },
     "execution_count": 8,
     "metadata": {},
     "output_type": "execute_result"
    }
   ],
   "source": [
    "# Displays the first 5 rows\n",
    "Oct2019.head()"
   ]
  },
  {
   "cell_type": "code",
   "execution_count": 9,
   "id": "7da2a915",
   "metadata": {},
   "outputs": [],
   "source": [
    "Oct2019.to_csv(\"2019-Oct_Cleaned.csv\", index = False)"
   ]
  }
 ],
 "metadata": {
  "kernelspec": {
   "display_name": "Python 3",
   "language": "python",
   "name": "python3"
  },
  "language_info": {
   "codemirror_mode": {
    "name": "ipython",
    "version": 3
   },
   "file_extension": ".py",
   "mimetype": "text/x-python",
   "name": "python",
   "nbconvert_exporter": "python",
   "pygments_lexer": "ipython3",
   "version": "3.13.1"
  }
 },
 "nbformat": 4,
 "nbformat_minor": 5
}
